{
 "nbformat": 4,
 "nbformat_minor": 0,
 "metadata": {
  "colab": {
   "name": "crabnet_basic_colab.ipynb",
   "provenance": [],
   "collapsed_sections": [],
   "authorship_tag": "ABX9TyPMx0fVN9dYplROXvDHdi2Z",
   "include_colab_link": true
  },
  "kernelspec": {
   "name": "python3",
   "display_name": "Python 3"
  },
  "language_info": {
   "name": "python"
  }
 },
 "cells": [
  {
   "cell_type": "markdown",
   "metadata": {
    "id": "view-in-github",
    "colab_type": "text"
   },
   "source": [
    "<a href=\"https://colab.research.google.com/github/sparks-baird/CrabNet/blob/main/examples/crabnet_basic_colab.ipynb\" target=\"_parent\"><img src=\"https://colab.research.google.com/assets/colab-badge.svg\" alt=\"Open In Colab\"/></a>"
   ]
  },
  {
   "cell_type": "markdown",
   "source": [
    "# CrabNet Basic Usage\n",
    "\n",
    "Basic usage of CrabNet regression on elasticity dataset. If you run this on a larger dataset (e.g. by setting `get_data(..., Dummy=False)`), then we recommend that you use Colab's GPU capabilities via:\n",
    "\n",
    "```\n",
    "(Menu bar) --> Edit --> Notebook Settings --> Hardware Accelerator --> GPU\n",
    "```"
   ],
   "metadata": {
    "id": "KouhOtzXZBzb"
   }
  },
  {
   "cell_type": "markdown",
   "source": [
    "## Installation"
   ],
   "metadata": {
    "id": "w9grCKCqZU3S"
   }
  },
  {
   "cell_type": "code",
   "source": [
    "!pip install -U crabnet"
   ],
   "metadata": {
    "colab": {
     "base_uri": "https://localhost:8080/"
    },
    "id": "dr4L7s4vZVya",
    "outputId": "ac4eda31-9d4e-4ca6-8c21-490602460fea"
   },
   "execution_count": 1,
   "outputs": []
  },
  {
   "cell_type": "markdown",
   "source": [
    "## Imports"
   ],
   "metadata": {
    "id": "VmLhvTlUZI50"
   }
  },
  {
   "cell_type": "code",
   "execution_count": 2,
   "metadata": {
    "id": "0HuHbY9YY_kL"
   },
   "source": [
    "from crabnet.crabnet_ import get_data\n",
    "from crabnet.data.materials_data import elasticity\n",
    "from crabnet.crabnet_ import CrabNet"
   ],
   "outputs": []
  },
  {
   "cell_type": "markdown",
   "source": [
    "## Data"
   ],
   "metadata": {
    "id": "3aa6VMvEZLsj"
   }
  },
  {
   "cell_type": "code",
   "source": [
    "train_df, val_df = get_data(elasticity, \"train.csv\", dummy=True)"
   ],
   "metadata": {
    "id": "pUmtxTIDZNZD"
   },
   "execution_count": 3,
   "outputs": []
  },
  {
   "cell_type": "markdown",
   "source": [
    "## CrabNet"
   ],
   "metadata": {
    "id": "IPMtXxZMZRT6"
   }
  },
  {
   "cell_type": "code",
   "source": [
    "%matplotlib inline\n",
    "cb = CrabNet(mat_prop=\"elasticity\", epochs=40)\n",
    "cb.fit(train_df)\n",
    "val_pred, val_sigma = cb.predict(val_df, return_uncertainty=True)"
   ],
   "metadata": {
    "colab": {
     "base_uri": "https://localhost:8080/",
     "height": 1000
    },
    "id": "VjOIut6tZK3a",
    "outputId": "36ee6c58-78a7-4bce-d2b0-3388a24bd7d5"
   },
   "execution_count": 7,
   "outputs": []
  },
  {
   "cell_type": "code",
   "source": [
    ""
   ],
   "metadata": {
    "id": "tx6MeMz_3SLI"
   },
   "execution_count": null,
   "outputs": []
  }
 ]
}
